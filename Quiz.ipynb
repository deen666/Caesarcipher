{
  "nbformat": 4,
  "nbformat_minor": 0,
  "metadata": {
    "colab": {
      "name": "Quiz.ipynb",
      "provenance": [],
      "authorship_tag": "ABX9TyMGiJKW6n+WwBu704IjmTT8"
    },
    "kernelspec": {
      "name": "python3",
      "display_name": "Python 3"
    }
  },
  "cells": [
    {
      "cell_type": "markdown",
      "metadata": {
        "id": "4musXC3J1ktf",
        "colab_type": "text"
      },
      "source": [
        "**Quiz 1**"
      ]
    },
    {
      "cell_type": "code",
      "metadata": {
        "id": "730SAl1O1eLB",
        "colab_type": "code",
        "colab": {}
      },
      "source": [
        "\n",
        "\n",
        "#1.1 2345 %% 13\n",
        "Q1 = 2345%13\n",
        "\n",
        "#1.2\n",
        "Q2 = int(1567//17)\n",
        "\n",
        "#1.3   #ไม่ใช่ตัวแปรเดียวกัน\n",
        "Firstname = \"D\"\n",
        "FirstName = \"2EN\"\n",
        "print(Firstname, FirstName)\n",
        "\n",
        "\n",
        "#1.4 #ไม่ถูกต้อง 13Friday is illegal variable name\n",
        "'''\n",
        "13Friday = 13 \n",
        "\n",
        "13Friday = 13\n",
        "           ^\n",
        "SyntaxError: invalid syntax\n",
        "'''\n",
        "\n",
        "#1.5\n",
        "Q5 = print('Answer1 is {} Answer2 is {}'.format(Q1,Q2))\n",
        "\n",
        "#check type\n",
        "print(type(Q1))\n",
        "print(type(Q2))"
      ],
      "execution_count": 0,
      "outputs": []
    },
    {
      "cell_type": "markdown",
      "metadata": {
        "id": "qJzdXrFY3toP",
        "colab_type": "text"
      },
      "source": [
        "**Quiz 2**"
      ]
    },
    {
      "cell_type": "code",
      "metadata": {
        "id": "I_q-dcFv35Fg",
        "colab_type": "code",
        "colab": {}
      },
      "source": [
        "# 2.1\n",
        "devide = lambda x: x/3\n",
        "print(devide(9))\n",
        "\n",
        "# 2.2\n",
        "def avg(a,b,c,d):\n",
        "  return a+b+c+d/4\n",
        "print(avg(1,2,3,4))\n",
        "\n",
        "\n",
        "# 2.3\n",
        "avg_lamda = lambda x,y,z : (x + y + z)/3\n",
        "print(int(avg_lamda(15,30,45)))\n"
      ],
      "execution_count": 0,
      "outputs": []
    }
  ]
}